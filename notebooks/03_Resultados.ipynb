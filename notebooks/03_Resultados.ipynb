{
 "cells": [
  {
   "cell_type": "code",
   "execution_count": null,
   "id": "31b2650d",
   "metadata": {},
   "outputs": [],
   "source": [
    "import shap\n",
    "\n",
    "# 1. Interpretabilidad con SHAP\n",
    "explainer = shap.TreeExplainer(best_model.named_steps['model'])\n",
    "shap_values = explainer.shap_values(X_test_processed)\n",
    "\n",
    "shap.summary_plot(shap_values, X_test_processed, feature_names=feature_names)\n",
    "\n",
    "# 2. Curva ROC Multiclase\n",
    "from sklearn.metrics import roc_curve, auc\n",
    "from sklearn.preprocessing import label_binarize\n",
    "\n",
    "y_test_bin = label_binarize(y_test, classes=best_model.classes_)\n",
    "y_pred_proba = best_model.predict_proba(X_test)\n",
    "\n",
    "plt.figure(figsize=(10,8))\n",
    "for i in range(len(best_model.classes_)):\n",
    "    fpr, tpr, _ = roc_curve(y_test_bin[:,i], y_pred_proba[:,i])\n",
    "    roc_auc = auc(fpr, tpr)\n",
    "    plt.plot(fpr, tpr, label=f'{best_model.classes_[i]} (AUC = {roc_auc:.2f})')\n",
    "\n",
    "plt.plot([0, 1], [0, 1], 'k--')\n",
    "plt.title('Curva ROC Multiclase')\n",
    "plt.legend(loc='lower right')\n",
    "plt.show()"
   ]
  }
 ],
 "metadata": {
  "language_info": {
   "name": "python"
  }
 },
 "nbformat": 4,
 "nbformat_minor": 5
}
