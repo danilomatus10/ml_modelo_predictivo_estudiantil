{
 "cells": [
  {
   "cell_type": "code",
   "execution_count": null,
   "id": "31b2650d",
   "metadata": {},
   "outputs": [],
   "source": [
    "# Celda 1: Importancia de características\n",
    "import shap\n",
    "import joblib\n",
    "\n",
    "model = joblib.load('models/best_model.pkl')\n",
    "explainer = shap.Explainer(model.named_steps['classifier'])\n",
    "shap_values = explainer(model.named_steps['scaler'].transform(X_test))\n",
    "\n",
    "shap.summary_plot(shap_values, X_test, plot_type=\"bar\")\n",
    "\n",
    "# Celda 2: Comparación de modelos\n",
    "results_df = pd.DataFrame({\n",
    "    'Modelo': ['Baseline', 'Random Forest', 'XGBoost'],\n",
    "    'F1-Score': [0.75, 0.79, 0.83],\n",
    "    'AUC-ROC': [0.85, 0.88, 0.91]\n",
    "})\n",
    "\n",
    "sns.barplot(x='Modelo', y='F1-Score', data=results_df)\n",
    "plt.title('Comparación de Modelos por F1-Score')\n",
    "plt.show()"
   ]
  }
 ],
 "metadata": {
  "language_info": {
   "name": "python"
  }
 },
 "nbformat": 4,
 "nbformat_minor": 5
}
