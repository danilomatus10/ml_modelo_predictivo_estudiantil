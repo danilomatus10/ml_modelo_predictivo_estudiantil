{
 "cells": [
  {
   "cell_type": "code",
   "execution_count": null,
   "id": "7fc759f7",
   "metadata": {},
   "outputs": [],
   "source": [
    "from sklearn.model_selection import train_test_split\n",
    "from sklearn.ensemble import RandomForestClassifier\n",
    "from sklearn.metrics import classification_report\n",
    "\n",
    "# Dividir datos\n",
    "X = df.drop('Target', axis=1)\n",
    "y = df['Target']\n",
    "X_train, X_test, y_train, y_test = train_test_split(X, y, test_size=0.2, stratify=y, random_state=42)\n",
    "\n",
    "# Pipeline completo\n",
    "pipeline = Pipeline(steps=[\n",
    "    ('preprocessor', crear_pipeline_preprocesamiento()),\n",
    "    ('classifier', RandomForestClassifier(n_estimators=100))\n",
    "])\n",
    "\n",
    "# Entrenamiento\n",
    "pipeline.fit(X_train, y_train)\n",
    "\n",
    "# Evaluación\n",
    "y_pred = pipeline.predict(X_test)\n",
    "print(classification_report(y_test, y_pred))"
   ]
  }
 ],
 "metadata": {
  "language_info": {
   "name": "python"
  }
 },
 "nbformat": 4,
 "nbformat_minor": 5
}
