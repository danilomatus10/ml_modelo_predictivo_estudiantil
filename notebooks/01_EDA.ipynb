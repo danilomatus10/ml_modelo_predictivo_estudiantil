{
 "cells": [
  {
   "cell_type": "code",
   "execution_count": null,
   "id": "f2bb0e97",
   "metadata": {},
   "outputs": [],
   "source": [
    "# notebooks/01_EDA.ipynb\n",
    "import pandas as pd\n",
    "import numpy as np\n",
    "import matplotlib.pyplot as plt\n",
    "import seaborn as sns\n",
    "from scipy.stats import chi2_contingency, shapiro"
   ]
  },
  {
   "cell_type": "code",
   "execution_count": null,
   "id": "35dc748a",
   "metadata": {},
   "outputs": [],
   "source": [
    "# Cargar datos brutos y limpios\n",
    "df_raw = pd.read_csv('../data/raw/data.csv', delimiter=';', low_memory=False)\n",
    "df_cleaned = pd.read_csv('../data/processed/cleaned_data.csv', delimiter=';', low_memory=False)"
   ]
  },
  {
   "cell_type": "code",
   "execution_count": null,
   "id": "44be3e0a",
   "metadata": {},
   "outputs": [],
   "source": [
    "# Distribución de clases\n",
    "sns.countplot(x='Target', data=df_cleaned)\n",
    "plt.title('Distribución de Dropout vs Graduate')\n",
    "plt.savefig('../reports/target_distribution.png')"
   ]
  },
  {
   "cell_type": "code",
   "execution_count": null,
   "id": "c225dc9b",
   "metadata": {},
   "outputs": [],
   "source": [
    "# Matriz de correlación\n",
    "plt.figure(figsize=(12, 8))\n",
    "sns.heatmap(df_cleaned.corr(numeric_only=True), annot=True, fmt=\".2f\", cmap='coolwarm')\n",
    "plt.title('Matriz de Correlación')\n",
    "plt.savefig('../reports/correlation_matrix.png')"
   ]
  },
  {
   "cell_type": "code",
   "execution_count": null,
   "id": "eb972c46",
   "metadata": {},
   "outputs": [],
   "source": [
    "# Prueba Chi-cuadrado\n",
    "print(\"📊 Prueba Chi-cuadrado para Marital status y Target\")\n",
    "contingency_table = pd.crosstab(df_cleaned['Marital status'], df_cleaned['Target'])\n",
    "chi2, p, dof, expected = chi2_contingency(contingency_table)\n",
    "print(f\"Chi2: {chi2:.2f}, P-valor: {p:.4f}\")\n",
    "print(\"Valor esperado para tabla de contingencia:\")\n",
    "print(expected)"
   ]
  },
  {
   "cell_type": "code",
   "execution_count": null,
   "id": "6307c356",
   "metadata": {},
   "outputs": [],
   "source": [
    "# Prueba Shapiro-Wilk\n",
    "from scipy.stats import shapiro\n",
    "print(\"\\n📊 Prueba de normalidad para 'Admission grade'\")\n",
    "stat, p = shapiro(df_cleaned['Admission grade'])\n",
    "if p > 0.05:\n",
    "    print(\"✅ La variable 'Admission grade' sigue una distribución normal\")\n",
    "else:\n",
    "    print(\"❌ La variable 'Admission grade' no sigue una distribución normal\")"
   ]
  },
  {
   "cell_type": "code",
   "execution_count": null,
   "id": "4baa315e",
   "metadata": {},
   "outputs": [],
   "source": [
    "# Análisis demográfico - Edad\n",
    "print(\"📊 Edad vs Resultado Académico\")\n",
    "sns.boxplot(x='Target', y='Age at enrollment', data=df_cleaned)\n",
    "plt.title('Edad al matricularse vs Resultado')\n",
    "plt.xlabel('Resultado')\n",
    "plt.ylabel('Edad')\n",
    "plt.xticks([0, 1], ['Dropout', 'Graduate'])\n",
    "plt.savefig('../reports/age_analysis.png')\n",
    "plt.show()\n"
   ]
  },
  {
   "cell_type": "code",
   "execution_count": null,
   "id": "105bd2ee",
   "metadata": {},
   "outputs": [],
   "source": [
    "#Análisis de edad\n",
    "sns.boxplot(x='Target', y='Age at enrollment', data=df_cleaned)\n",
    "plt.title('Edad al matricularse vs Resultado Académico')\n",
    "plt.savefig('../reports/age_analysis.png')"
   ]
  },
  {
   "cell_type": "code",
   "execution_count": null,
   "id": "fb409251",
   "metadata": {},
   "outputs": [],
   "source": [
    "# Prueba Shapiro-Wilk para normalidad\n",
    "print(\"📊 Prueba Shapiro-Wilk para 'Admission grade'\")\n",
    "stat, p = shapiro(df_cleaned['Admission grade'])\n",
    "if p > 0.05:\n",
    "    print(\"✅ 'Admission grade' sigue una distribución normal\")\n",
    "else:\n",
    "    print(\"❌ 'Admission grade' no sigue una distribución normal\")"
   ]
  }
 ],
 "metadata": {
  "kernelspec": {
   "display_name": "ml_modelo_predictivo_estudiantil",
   "language": "python",
   "name": "python3"
  },
  "language_info": {
   "codemirror_mode": {
    "name": "ipython",
    "version": 3
   },
   "file_extension": ".py",
   "mimetype": "text/x-python",
   "name": "python",
   "nbconvert_exporter": "python",
   "pygments_lexer": "ipython3",
   "version": "3.9.22"
  }
 },
 "nbformat": 4,
 "nbformat_minor": 5
}
