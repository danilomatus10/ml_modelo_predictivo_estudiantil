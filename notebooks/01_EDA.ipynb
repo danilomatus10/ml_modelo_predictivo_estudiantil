{
 "cells": [
  {
   "cell_type": "code",
   "execution_count": 1,
   "id": "f2bb0e97",
   "metadata": {},
   "outputs": [],
   "source": [
    "# Celda 1: Carga y visualización inicial\n",
    "import pandas as pd\n",
    "import seaborn as sns\n",
    "import matplotlib.pyplot as plt"
   ]
  },
  {
   "cell_type": "code",
   "execution_count": null,
   "id": "35dc748a",
   "metadata": {},
   "outputs": [],
   "source": [
    "df = pd.read_csv('data/processed/cleaned_data.csv')"
   ]
  },
  {
   "cell_type": "code",
   "execution_count": null,
   "id": "44be3e0a",
   "metadata": {},
   "outputs": [],
   "source": [
    "# Distribución del target\n",
    "sns.countplot(x='Target', data=df)\n",
    "plt.title('Distribución de Clases (Dropout vs Graduate)')\n",
    "plt.show()\n"
   ]
  },
  {
   "cell_type": "code",
   "execution_count": null,
   "id": "c225dc9b",
   "metadata": {},
   "outputs": [],
   "source": [
    "# Correlación entre variables\n",
    "plt.figure(figsize=(12, 8))\n",
    "sns.heatmap(df.corr(numeric_only=True), annot=True, fmt=\".2f\", cmap='coolwarm')\n",
    "plt.title('Matriz de Correlación')\n",
    "plt.show()"
   ]
  },
  {
   "cell_type": "code",
   "execution_count": null,
   "id": "eb972c46",
   "metadata": {},
   "outputs": [],
   "source": [
    "# Celda 2: Análisis demográfico\n",
    "sns.boxplot(x='Target', y='Age at enrollment', data=df)\n",
    "plt.title('Edad vs Resultado Académico')\n",
    "plt.show()"
   ]
  },
  {
   "cell_type": "code",
   "execution_count": null,
   "id": "6307c356",
   "metadata": {},
   "outputs": [],
   "source": [
    "# Celda 3: Variables económicas\n",
    "sns.scatterplot(x='Unemployment rate', y='Inflation rate', hue='Target', data=df)\n",
    "plt.title('Tasa de Desempleo vs Inflación')\n",
    "plt.show()"
   ]
  }
 ],
 "metadata": {
  "kernelspec": {
   "display_name": "ml_modelo_predictivo_estudiantil",
   "language": "python",
   "name": "python3"
  },
  "language_info": {
   "codemirror_mode": {
    "name": "ipython",
    "version": 3
   },
   "file_extension": ".py",
   "mimetype": "text/x-python",
   "name": "python",
   "nbconvert_exporter": "python",
   "pygments_lexer": "ipython3",
   "version": "3.9.22"
  }
 },
 "nbformat": 4,
 "nbformat_minor": 5
}
