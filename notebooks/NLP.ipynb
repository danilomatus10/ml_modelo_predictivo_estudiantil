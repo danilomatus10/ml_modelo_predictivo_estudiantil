{
 "cells": [
  {
   "cell_type": "code",
   "execution_count": null,
   "id": "f01cea37",
   "metadata": {},
   "outputs": [],
   "source": [
    "# notebooks/04_NLP.ipynb\n",
    "import pandas as pd\n",
    "from sklearn.feature_extraction.text import TfidfVectorizer\n"
   ]
  },
  {
   "cell_type": "code",
   "execution_count": null,
   "id": "b248f954",
   "metadata": {},
   "outputs": [],
   "source": [
    "# Si tienen una columna de texto (ej.: razones de abandono)\n",
    "df = pd.read_csv('../data/raw/data.csv', delimiter=';', low_memory=False)\n",
    "if 'Reason_for_dropout' in df.columns:\n",
    "    print(\"🧠 Aplicando NLP...\")\n",
    "    vectorizer = TfidfVectorizer(max_features=100)\n",
    "    text_features = vectorizer.fit_transform(df['Reason_for_dropout'])\n",
    "    \n",
    "    # Combinar con otras características\n",
    "    X_with_text = pd.concat([\n",
    "        pd.DataFrame(text_features.toarray()),\n",
    "        X.drop('Reason_for_dropout', axis=1, errors='ignore')\n",
    "    ], axis=1)\n",
    "    \n",
    "    print(\"📊 Dimensiones con NLP:\", X_with_text.shape)\n",
    "else:\n",
    "    print(\"⚠️ No hay datos de texto para procesar NLP\")"
   ]
  }
 ],
 "metadata": {
  "kernelspec": {
   "display_name": "ml_modelo_predictivo_estudiantil",
   "language": "python",
   "name": "python3"
  },
  "language_info": {
   "name": "python",
   "version": "3.9.22"
  }
 },
 "nbformat": 4,
 "nbformat_minor": 5
}
